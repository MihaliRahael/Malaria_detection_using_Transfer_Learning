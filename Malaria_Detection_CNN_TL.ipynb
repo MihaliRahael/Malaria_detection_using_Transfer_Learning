{
 "cells": [
  {
   "cell_type": "code",
   "execution_count": null,
   "id": "2081b41e",
   "metadata": {},
   "outputs": [],
   "source": [
    "# VGG19 gives better accuracy than other models. VGG 19 is a 1000 class classifier. \n",
    "# Here the prob statement is of 2 class classifier."
   ]
  },
  {
   "cell_type": "code",
   "execution_count": 1,
   "id": "a27f7019",
   "metadata": {},
   "outputs": [
    {
     "name": "stdout",
     "output_type": "stream",
     "text": [
      "2.7.0\n"
     ]
    }
   ],
   "source": [
    "import tensorflow as tf\n",
    "print (tf.__version__)"
   ]
  },
  {
   "cell_type": "code",
   "execution_count": 37,
   "id": "b26177ca",
   "metadata": {},
   "outputs": [],
   "source": [
    "from tensorflow.keras.layers import Input, Lambda, Dense, Flatten,Conv2D\n",
    "from tensorflow.keras.models import Model\n",
    "from tensorflow.keras.applications.vgg19 import VGG19\n",
    "from tensorflow.keras.applications.resnet50 import preprocess_input\n",
    "from tensorflow.keras.preprocessing import image\n",
    "from tensorflow.keras.preprocessing.image import ImageDataGenerator,load_img\n",
    "from tensorflow.keras.models import Sequential\n",
    "import numpy as np\n",
    "from glob import glob\n",
    "import matplotlib.pyplot as plt"
   ]
  },
  {
   "cell_type": "code",
   "execution_count": 38,
   "id": "842aff31",
   "metadata": {},
   "outputs": [],
   "source": [
    "# re-size all the images to this\n",
    "IMAGE_SIZE = [224, 224]\n",
    "\n",
    "# Open any image using paint and check for pixels. Change it to 224 X 224. Image will be enlarged.\n",
    "# why resize? VGG 19 model has been designed such that i/p size is 224 X 224. \n",
    "\n",
    "train_path = 'Dataset/Train'\n",
    "valid_path = 'Dataset/Test'\n",
    "\n",
    "# we will be giving this path to image data generator"
   ]
  },
  {
   "cell_type": "code",
   "execution_count": 39,
   "id": "0d509741",
   "metadata": {},
   "outputs": [],
   "source": [
    "# Import the Vgg 19 library as shown below and add preprocessing layer to the front of VGG\n",
    "# Here we will be using imagenet weights\n",
    "\n",
    "vgg19 = VGG19(input_shape=IMAGE_SIZE + [3], weights='imagenet', include_top=False)\n",
    "\n",
    "# +[3] means add the no of channels ie 3 indicates RGB channel. 1 for black&white images. So resultant size is 224 X 224 X 3\n",
    "#Last fully connected layer will get removed when we declare include_top = False"
   ]
  },
  {
   "cell_type": "code",
   "execution_count": 40,
   "id": "caede5de",
   "metadata": {},
   "outputs": [
    {
     "name": "stdout",
     "output_type": "stream",
     "text": [
      "Model: \"vgg19\"\n",
      "_________________________________________________________________\n",
      " Layer (type)                Output Shape              Param #   \n",
      "=================================================================\n",
      " input_4 (InputLayer)        [(None, 224, 224, 3)]     0         \n",
      "                                                                 \n",
      " block1_conv1 (Conv2D)       (None, 224, 224, 64)      1792      \n",
      "                                                                 \n",
      " block1_conv2 (Conv2D)       (None, 224, 224, 64)      36928     \n",
      "                                                                 \n",
      " block1_pool (MaxPooling2D)  (None, 112, 112, 64)      0         \n",
      "                                                                 \n",
      " block2_conv1 (Conv2D)       (None, 112, 112, 128)     73856     \n",
      "                                                                 \n",
      " block2_conv2 (Conv2D)       (None, 112, 112, 128)     147584    \n",
      "                                                                 \n",
      " block2_pool (MaxPooling2D)  (None, 56, 56, 128)       0         \n",
      "                                                                 \n",
      " block3_conv1 (Conv2D)       (None, 56, 56, 256)       295168    \n",
      "                                                                 \n",
      " block3_conv2 (Conv2D)       (None, 56, 56, 256)       590080    \n",
      "                                                                 \n",
      " block3_conv3 (Conv2D)       (None, 56, 56, 256)       590080    \n",
      "                                                                 \n",
      " block3_conv4 (Conv2D)       (None, 56, 56, 256)       590080    \n",
      "                                                                 \n",
      " block3_pool (MaxPooling2D)  (None, 28, 28, 256)       0         \n",
      "                                                                 \n",
      " block4_conv1 (Conv2D)       (None, 28, 28, 512)       1180160   \n",
      "                                                                 \n",
      " block4_conv2 (Conv2D)       (None, 28, 28, 512)       2359808   \n",
      "                                                                 \n",
      " block4_conv3 (Conv2D)       (None, 28, 28, 512)       2359808   \n",
      "                                                                 \n",
      " block4_conv4 (Conv2D)       (None, 28, 28, 512)       2359808   \n",
      "                                                                 \n",
      " block4_pool (MaxPooling2D)  (None, 14, 14, 512)       0         \n",
      "                                                                 \n",
      " block5_conv1 (Conv2D)       (None, 14, 14, 512)       2359808   \n",
      "                                                                 \n",
      " block5_conv2 (Conv2D)       (None, 14, 14, 512)       2359808   \n",
      "                                                                 \n",
      " block5_conv3 (Conv2D)       (None, 14, 14, 512)       2359808   \n",
      "                                                                 \n",
      " block5_conv4 (Conv2D)       (None, 14, 14, 512)       2359808   \n",
      "                                                                 \n",
      " block5_pool (MaxPooling2D)  (None, 7, 7, 512)         0         \n",
      "                                                                 \n",
      "=================================================================\n",
      "Total params: 20,024,384\n",
      "Trainable params: 20,024,384\n",
      "Non-trainable params: 0\n",
      "_________________________________________________________________\n"
     ]
    }
   ],
   "source": [
    "vgg19.summary()"
   ]
  },
  {
   "cell_type": "code",
   "execution_count": 41,
   "id": "42391eab",
   "metadata": {},
   "outputs": [],
   "source": [
    "# don't train existing weights\n",
    "# we should not train the VGG 16 layers cos they are already trained and fixed.\n",
    "for layer in vgg19.layers:\n",
    "    layer.trainable = False"
   ]
  },
  {
   "cell_type": "code",
   "execution_count": 42,
   "id": "6c5f96fa",
   "metadata": {},
   "outputs": [],
   "source": [
    "# useful for getting number of output classes\n",
    "folders = glob('Dataset/Train/*')"
   ]
  },
  {
   "cell_type": "code",
   "execution_count": 43,
   "id": "f446378b",
   "metadata": {},
   "outputs": [
    {
     "name": "stdout",
     "output_type": "stream",
     "text": [
      "['Dataset/Train\\\\Parasite', 'Dataset/Train\\\\Uninfected']\n",
      "2\n"
     ]
    }
   ],
   "source": [
    "print(folders)\n",
    "print(len(folders))"
   ]
  },
  {
   "cell_type": "code",
   "execution_count": 44,
   "id": "fc31563d",
   "metadata": {},
   "outputs": [
    {
     "name": "stdout",
     "output_type": "stream",
     "text": [
      "KerasTensor(type_spec=TensorSpec(shape=(None, 7, 7, 512), dtype=tf.float32, name=None), name='block5_pool/MaxPool:0', description=\"created by layer 'block5_pool'\")\n"
     ]
    }
   ],
   "source": [
    "print (vgg19.output)"
   ]
  },
  {
   "cell_type": "code",
   "execution_count": 45,
   "id": "95d73b5c",
   "metadata": {},
   "outputs": [],
   "source": [
    "# our layers - you can add more if you want\n",
    "# we will flatten the outputs of vgg19 untill the last max pooling layer.\n",
    "x = Flatten()(vgg19.output)"
   ]
  },
  {
   "cell_type": "code",
   "execution_count": 46,
   "id": "0b54b5b9",
   "metadata": {},
   "outputs": [],
   "source": [
    "# Dense layer will be added after flattening\n",
    "\n",
    "prediction = Dense(len(folders), activation='softmax')(x)\n",
    "\n",
    "# here we are having two nodes at o/p, hence used softmax. \n",
    "# If there was only 1 node, ie binary classification, we can use sigmoid.\n",
    "\n",
    "# create a model object\n",
    "model = Model(inputs=vgg19.input, outputs=prediction)"
   ]
  },
  {
   "cell_type": "code",
   "execution_count": 47,
   "id": "3ca6d586",
   "metadata": {},
   "outputs": [
    {
     "name": "stdout",
     "output_type": "stream",
     "text": [
      "Model: \"model_2\"\n",
      "_________________________________________________________________\n",
      " Layer (type)                Output Shape              Param #   \n",
      "=================================================================\n",
      " input_4 (InputLayer)        [(None, 224, 224, 3)]     0         \n",
      "                                                                 \n",
      " block1_conv1 (Conv2D)       (None, 224, 224, 64)      1792      \n",
      "                                                                 \n",
      " block1_conv2 (Conv2D)       (None, 224, 224, 64)      36928     \n",
      "                                                                 \n",
      " block1_pool (MaxPooling2D)  (None, 112, 112, 64)      0         \n",
      "                                                                 \n",
      " block2_conv1 (Conv2D)       (None, 112, 112, 128)     73856     \n",
      "                                                                 \n",
      " block2_conv2 (Conv2D)       (None, 112, 112, 128)     147584    \n",
      "                                                                 \n",
      " block2_pool (MaxPooling2D)  (None, 56, 56, 128)       0         \n",
      "                                                                 \n",
      " block3_conv1 (Conv2D)       (None, 56, 56, 256)       295168    \n",
      "                                                                 \n",
      " block3_conv2 (Conv2D)       (None, 56, 56, 256)       590080    \n",
      "                                                                 \n",
      " block3_conv3 (Conv2D)       (None, 56, 56, 256)       590080    \n",
      "                                                                 \n",
      " block3_conv4 (Conv2D)       (None, 56, 56, 256)       590080    \n",
      "                                                                 \n",
      " block3_pool (MaxPooling2D)  (None, 28, 28, 256)       0         \n",
      "                                                                 \n",
      " block4_conv1 (Conv2D)       (None, 28, 28, 512)       1180160   \n",
      "                                                                 \n",
      " block4_conv2 (Conv2D)       (None, 28, 28, 512)       2359808   \n",
      "                                                                 \n",
      " block4_conv3 (Conv2D)       (None, 28, 28, 512)       2359808   \n",
      "                                                                 \n",
      " block4_conv4 (Conv2D)       (None, 28, 28, 512)       2359808   \n",
      "                                                                 \n",
      " block4_pool (MaxPooling2D)  (None, 14, 14, 512)       0         \n",
      "                                                                 \n",
      " block5_conv1 (Conv2D)       (None, 14, 14, 512)       2359808   \n",
      "                                                                 \n",
      " block5_conv2 (Conv2D)       (None, 14, 14, 512)       2359808   \n",
      "                                                                 \n",
      " block5_conv3 (Conv2D)       (None, 14, 14, 512)       2359808   \n",
      "                                                                 \n",
      " block5_conv4 (Conv2D)       (None, 14, 14, 512)       2359808   \n",
      "                                                                 \n",
      " block5_pool (MaxPooling2D)  (None, 7, 7, 512)         0         \n",
      "                                                                 \n",
      " flatten_2 (Flatten)         (None, 25088)             0         \n",
      "                                                                 \n",
      " dense_4 (Dense)             (None, 2)                 50178     \n",
      "                                                                 \n",
      "=================================================================\n",
      "Total params: 20,074,562\n",
      "Trainable params: 50,178\n",
      "Non-trainable params: 20,024,384\n",
      "_________________________________________________________________\n"
     ]
    }
   ],
   "source": [
    "model.summary()"
   ]
  },
  {
   "cell_type": "code",
   "execution_count": 48,
   "id": "7065aa86",
   "metadata": {},
   "outputs": [],
   "source": [
    "from tensorflow.keras.layers import MaxPooling2D"
   ]
  },
  {
   "cell_type": "code",
   "execution_count": 49,
   "id": "edac9cc5",
   "metadata": {},
   "outputs": [
    {
     "name": "stdout",
     "output_type": "stream",
     "text": [
      "Model: \"sequential_1\"\n",
      "_________________________________________________________________\n",
      " Layer (type)                Output Shape              Param #   \n",
      "=================================================================\n",
      " conv2d_3 (Conv2D)           (None, 224, 224, 16)      208       \n",
      "                                                                 \n",
      " max_pooling2d_3 (MaxPooling  (None, 112, 112, 16)     0         \n",
      " 2D)                                                             \n",
      "                                                                 \n",
      " conv2d_4 (Conv2D)           (None, 112, 112, 32)      2080      \n",
      "                                                                 \n",
      " max_pooling2d_4 (MaxPooling  (None, 56, 56, 32)       0         \n",
      " 2D)                                                             \n",
      "                                                                 \n",
      " conv2d_5 (Conv2D)           (None, 56, 56, 64)        8256      \n",
      "                                                                 \n",
      " max_pooling2d_5 (MaxPooling  (None, 28, 28, 64)       0         \n",
      " 2D)                                                             \n",
      "                                                                 \n",
      " flatten_3 (Flatten)         (None, 50176)             0         \n",
      "                                                                 \n",
      " dense_5 (Dense)             (None, 500)               25088500  \n",
      "                                                                 \n",
      " dense_6 (Dense)             (None, 2)                 1002      \n",
      "                                                                 \n",
      "=================================================================\n",
      "Total params: 25,100,046\n",
      "Trainable params: 25,100,046\n",
      "Non-trainable params: 0\n",
      "_________________________________________________________________\n"
     ]
    }
   ],
   "source": [
    "### Create Model from scratch using CNN\n",
    "model=Sequential()\n",
    "model.add(Conv2D(filters=16,kernel_size=2,padding=\"same\",activation=\"relu\",input_shape=(224,224,3)))\n",
    "model.add(MaxPooling2D(pool_size=2))\n",
    "model.add(Conv2D(filters=32,kernel_size=2,padding=\"same\",activation =\"relu\"))\n",
    "model.add(MaxPooling2D(pool_size=2))\n",
    "model.add(Conv2D(filters=64,kernel_size=2,padding=\"same\",activation=\"relu\"))\n",
    "model.add(MaxPooling2D(pool_size=2))\n",
    "model.add(Flatten())\n",
    "model.add(Dense(500,activation=\"relu\"))\n",
    "model.add(Dense(2,activation=\"softmax\"))\n",
    "model.summary()"
   ]
  },
  {
   "cell_type": "code",
   "execution_count": 50,
   "id": "2cb905ad",
   "metadata": {},
   "outputs": [],
   "source": [
    "# tell the model what cost and optimization method to use\n",
    "model.compile(\n",
    "  loss='categorical_crossentropy',\n",
    "  optimizer='adam',\n",
    "  metrics=['accuracy']\n",
    ")"
   ]
  },
  {
   "cell_type": "code",
   "execution_count": 51,
   "id": "2f0428b1",
   "metadata": {},
   "outputs": [],
   "source": [
    "# Use the Image Data Generator to import the images from the dataset\n",
    "from tensorflow.keras.preprocessing.image import ImageDataGenerator\n",
    "\n",
    "train_datagen = ImageDataGenerator(rescale = 1./255,\n",
    "                                   shear_range = 0.2,\n",
    "                                   zoom_range = 0.2,\n",
    "                                   horizontal_flip = True)\n",
    "\n",
    "test_datagen = ImageDataGenerator(rescale = 1./255)"
   ]
  },
  {
   "cell_type": "code",
   "execution_count": 52,
   "id": "0897180c",
   "metadata": {},
   "outputs": [
    {
     "name": "stdout",
     "output_type": "stream",
     "text": [
      "Found 416 images belonging to 2 classes.\n"
     ]
    }
   ],
   "source": [
    "# Make sure you provide the same target size as initialied for the image size\n",
    "training_set = train_datagen.flow_from_directory('Dataset/Train',\n",
    "                                                 target_size = (224, 224),\n",
    "                                                 batch_size = 32,\n",
    "                                                 class_mode = 'categorical')"
   ]
  },
  {
   "cell_type": "code",
   "execution_count": 53,
   "id": "f73b9ce4",
   "metadata": {},
   "outputs": [
    {
     "data": {
      "text/plain": [
       "<keras.preprocessing.image.DirectoryIterator at 0x209146a1d30>"
      ]
     },
     "execution_count": 53,
     "metadata": {},
     "output_type": "execute_result"
    }
   ],
   "source": [
    "training_set"
   ]
  },
  {
   "cell_type": "code",
   "execution_count": 54,
   "id": "fde9aaf6",
   "metadata": {},
   "outputs": [
    {
     "name": "stdout",
     "output_type": "stream",
     "text": [
      "Found 134 images belonging to 2 classes.\n"
     ]
    }
   ],
   "source": [
    "test_set = test_datagen.flow_from_directory('Dataset/Test',\n",
    "                                            target_size = (224, 224),\n",
    "                                            batch_size = 32,\n",
    "                                            class_mode = 'categorical')"
   ]
  },
  {
   "cell_type": "code",
   "execution_count": 55,
   "id": "1db07e90",
   "metadata": {},
   "outputs": [
    {
     "name": "stderr",
     "output_type": "stream",
     "text": [
      "<ipython-input-55-2d02736eff38>:3: UserWarning: `Model.fit_generator` is deprecated and will be removed in a future version. Please use `Model.fit`, which supports generators.\n",
      "  r = model.fit_generator(\n"
     ]
    },
    {
     "name": "stdout",
     "output_type": "stream",
     "text": [
      "Epoch 1/20\n",
      "13/13 [==============================] - 14s 958ms/step - loss: 2.0897 - accuracy: 0.4736 - val_loss: 0.7046 - val_accuracy: 0.3284\n",
      "Epoch 2/20\n",
      "13/13 [==============================] - 11s 824ms/step - loss: 0.6868 - accuracy: 0.5409 - val_loss: 0.6807 - val_accuracy: 0.6716\n",
      "Epoch 3/20\n",
      "13/13 [==============================] - 11s 821ms/step - loss: 0.6572 - accuracy: 0.6827 - val_loss: 0.6878 - val_accuracy: 0.6642\n",
      "Epoch 4/20\n",
      "13/13 [==============================] - 11s 852ms/step - loss: 0.5780 - accuracy: 0.6755 - val_loss: 0.8786 - val_accuracy: 0.3134\n",
      "Epoch 5/20\n",
      "13/13 [==============================] - 11s 845ms/step - loss: 0.5329 - accuracy: 0.7188 - val_loss: 0.8213 - val_accuracy: 0.4254\n",
      "Epoch 6/20\n",
      "13/13 [==============================] - 11s 834ms/step - loss: 0.5235 - accuracy: 0.7212 - val_loss: 0.9117 - val_accuracy: 0.4851\n",
      "Epoch 7/20\n",
      "13/13 [==============================] - 11s 810ms/step - loss: 0.5384 - accuracy: 0.6923 - val_loss: 1.1363 - val_accuracy: 0.3358\n",
      "Epoch 8/20\n",
      "13/13 [==============================] - 11s 856ms/step - loss: 0.5283 - accuracy: 0.7332 - val_loss: 0.8996 - val_accuracy: 0.4552\n",
      "Epoch 9/20\n",
      "13/13 [==============================] - 11s 840ms/step - loss: 0.4933 - accuracy: 0.7620 - val_loss: 0.8133 - val_accuracy: 0.3582\n",
      "Epoch 10/20\n",
      "13/13 [==============================] - 11s 802ms/step - loss: 0.4557 - accuracy: 0.7716 - val_loss: 1.1576 - val_accuracy: 0.3433\n",
      "Epoch 11/20\n",
      "13/13 [==============================] - 12s 893ms/step - loss: 0.4153 - accuracy: 0.7957 - val_loss: 0.9598 - val_accuracy: 0.3284\n",
      "Epoch 12/20\n",
      "13/13 [==============================] - 12s 943ms/step - loss: 0.3943 - accuracy: 0.8197 - val_loss: 0.8848 - val_accuracy: 0.3955\n",
      "Epoch 13/20\n",
      "13/13 [==============================] - 12s 883ms/step - loss: 0.3754 - accuracy: 0.8221 - val_loss: 0.8857 - val_accuracy: 0.4478\n",
      "Epoch 14/20\n",
      "13/13 [==============================] - 12s 886ms/step - loss: 0.3360 - accuracy: 0.8510 - val_loss: 0.9558 - val_accuracy: 0.4179\n",
      "Epoch 15/20\n",
      "13/13 [==============================] - 11s 840ms/step - loss: 0.3183 - accuracy: 0.8678 - val_loss: 0.9746 - val_accuracy: 0.4925\n",
      "Epoch 16/20\n",
      "13/13 [==============================] - 11s 818ms/step - loss: 0.2999 - accuracy: 0.8702 - val_loss: 0.7261 - val_accuracy: 0.5672\n",
      "Epoch 17/20\n",
      "13/13 [==============================] - 11s 833ms/step - loss: 0.2373 - accuracy: 0.9111 - val_loss: 0.6643 - val_accuracy: 0.6642\n",
      "Epoch 18/20\n",
      "13/13 [==============================] - 11s 859ms/step - loss: 0.2437 - accuracy: 0.8966 - val_loss: 0.5059 - val_accuracy: 0.7463\n",
      "Epoch 19/20\n",
      "13/13 [==============================] - 12s 885ms/step - loss: 0.2470 - accuracy: 0.9111 - val_loss: 0.6749 - val_accuracy: 0.6642\n",
      "Epoch 20/20\n",
      "13/13 [==============================] - 11s 826ms/step - loss: 0.2537 - accuracy: 0.9038 - val_loss: 0.5967 - val_accuracy: 0.7090\n"
     ]
    }
   ],
   "source": [
    "# fit the model\n",
    "# Run the cell. It will take some time to execute\n",
    "r = model.fit_generator(\n",
    "  training_set,\n",
    "  validation_data=test_set,\n",
    "  epochs=20,\n",
    "  steps_per_epoch=len(training_set),\n",
    "  validation_steps=len(test_set)\n",
    ")"
   ]
  },
  {
   "cell_type": "code",
   "execution_count": 57,
   "id": "64af5829",
   "metadata": {},
   "outputs": [
    {
     "data": {
      "image/png": "[encoded data removed]",
      "text/plain": [
       "<Figure size 432x288 with 1 Axes>"
      ]
     },
     "metadata": {
      "needs_background": "light"
     },
     "output_type": "display_data"
    },
    {
     "data": {
      "image/png": "[encoded data removed]",
      "text/plain": [
       "<Figure size 432x288 with 1 Axes>"
      ]
     },
     "metadata": {
      "needs_background": "light"
     },
     "output_type": "display_data"
    },
    {
     "data": {
      "text/plain": [
       "<Figure size 432x288 with 0 Axes>"
      ]
     },
     "metadata": {},
     "output_type": "display_data"
    }
   ],
   "source": [
    "# plot the loss\n",
    "plt.plot(r.history['loss'], label='train loss')\n",
    "plt.plot(r.history['val_loss'], label='val loss')\n",
    "plt.legend()\n",
    "plt.show()\n",
    "plt.savefig('LossVal_loss')\n",
    "\n",
    "# plot the accuracy\n",
    "plt.plot(r.history['accuracy'], label='train acc')\n",
    "plt.plot(r.history['val_accuracy'], label='val acc')\n",
    "plt.legend()\n",
    "plt.show()\n",
    "plt.savefig('AccVal_acc')"
   ]
  },
  {
   "cell_type": "code",
   "execution_count": 58,
   "id": "423a99fa",
   "metadata": {},
   "outputs": [],
   "source": [
    "# save it as a h5 file\n",
    "\n",
    "from tensorflow.keras.models import load_model\n",
    "\n",
    "model.save('model_vgg19.h5')"
   ]
  },
  {
   "cell_type": "code",
   "execution_count": 59,
   "id": "79161be3",
   "metadata": {},
   "outputs": [],
   "source": [
    "y_pred = model.predict(test_set)"
   ]
  },
  {
   "cell_type": "code",
   "execution_count": 60,
   "id": "5d9d5c2d",
   "metadata": {},
   "outputs": [
    {
     "data": {
      "text/plain": [
       "array([[0.1911175 , 0.8088825 ],\n",
       "       [0.09748951, 0.9025105 ],\n",
       "       [0.01921241, 0.98078763],\n",
       "       [0.30325744, 0.6967426 ],\n",
       "       [0.9749078 , 0.02509223],\n",
       "       [0.03497441, 0.96502554],\n",
       "       [0.21231782, 0.7876822 ],\n",
       "       [0.47197685, 0.5280232 ],\n",
       "       [0.05789036, 0.9421096 ],\n",
       "       [0.61181813, 0.3881819 ],\n",
       "       [0.22986393, 0.770136  ],\n",
       "       [0.87033284, 0.12966718],\n",
       "       [0.62784207, 0.37215793],\n",
       "       [0.8306896 , 0.16931036],\n",
       "       [0.13970636, 0.8602936 ],\n",
       "       [0.1794278 , 0.8205722 ],\n",
       "       [0.85831845, 0.14168155],\n",
       "       [0.8680497 , 0.13195029],\n",
       "       [0.92704964, 0.07295041],\n",
       "       [0.9565604 , 0.04343962],\n",
       "       [0.9618586 , 0.03814146],\n",
       "       [0.88262   , 0.11738008],\n",
       "       [0.6478759 , 0.35212412],\n",
       "       [0.17137992, 0.8286201 ],\n",
       "       [0.54584557, 0.45415446],\n",
       "       [0.65021455, 0.34978548],\n",
       "       [0.49689576, 0.50310427],\n",
       "       [0.6065613 , 0.39343873],\n",
       "       [0.61745805, 0.38254192],\n",
       "       [0.7385308 , 0.2614692 ],\n",
       "       [0.725117  , 0.27488288],\n",
       "       [0.6931828 , 0.30681717],\n",
       "       [0.47301102, 0.5269889 ],\n",
       "       [0.13219036, 0.86780965],\n",
       "       [0.37767628, 0.6223237 ],\n",
       "       [0.48856568, 0.5114343 ],\n",
       "       [0.8802702 , 0.11972983],\n",
       "       [0.95050263, 0.0494973 ],\n",
       "       [0.27722645, 0.72277355],\n",
       "       [0.8350301 , 0.16496989],\n",
       "       [0.9034105 , 0.09658957],\n",
       "       [0.05092501, 0.949075  ],\n",
       "       [0.04552878, 0.95447123],\n",
       "       [0.32002023, 0.67997974],\n",
       "       [0.13224278, 0.8677572 ],\n",
       "       [0.30751684, 0.6924831 ],\n",
       "       [0.5668976 , 0.4331025 ],\n",
       "       [0.5987646 , 0.40123546],\n",
       "       [0.28517592, 0.7148241 ],\n",
       "       [0.17364943, 0.8263505 ],\n",
       "       [0.15335557, 0.8466444 ],\n",
       "       [0.56379944, 0.43620065],\n",
       "       [0.23359124, 0.76640874],\n",
       "       [0.6750015 , 0.32499853],\n",
       "       [0.83247983, 0.16752017],\n",
       "       [0.7909253 , 0.20907465],\n",
       "       [0.7643811 , 0.23561892],\n",
       "       [0.31793362, 0.6820664 ],\n",
       "       [0.1848048 , 0.8151952 ],\n",
       "       [0.99018   , 0.00981997],\n",
       "       [0.48470414, 0.51529586],\n",
       "       [0.05597634, 0.9440236 ],\n",
       "       [0.9980521 , 0.00194785],\n",
       "       [0.24878106, 0.7512189 ],\n",
       "       [0.21305783, 0.7869421 ],\n",
       "       [0.6862862 , 0.31371376],\n",
       "       [0.3957349 , 0.60426515],\n",
       "       [0.20174778, 0.7982523 ],\n",
       "       [0.5031001 , 0.49689984],\n",
       "       [0.11385338, 0.88614666],\n",
       "       [0.82639986, 0.17360017],\n",
       "       [0.84843516, 0.15156487],\n",
       "       [0.47586414, 0.5241359 ],\n",
       "       [0.9790835 , 0.02091653],\n",
       "       [0.07473099, 0.925269  ],\n",
       "       [0.98451066, 0.01548929],\n",
       "       [0.5758518 , 0.42414817],\n",
       "       [0.6541392 , 0.34586075],\n",
       "       [0.29997694, 0.700023  ],\n",
       "       [0.54103917, 0.45896083],\n",
       "       [0.90466434, 0.09533563],\n",
       "       [0.39303067, 0.6069693 ],\n",
       "       [0.3093974 , 0.6906026 ],\n",
       "       [0.14077194, 0.859228  ],\n",
       "       [0.7442571 , 0.25574288],\n",
       "       [0.48805884, 0.51194113],\n",
       "       [0.97657895, 0.02342105],\n",
       "       [0.6356343 , 0.36436573],\n",
       "       [0.11362319, 0.8863768 ],\n",
       "       [0.5251509 , 0.47484905],\n",
       "       [0.4823503 , 0.5176497 ],\n",
       "       [0.709918  , 0.29008195],\n",
       "       [0.11117247, 0.8888275 ],\n",
       "       [0.10988384, 0.89011616],\n",
       "       [0.9072209 , 0.09277907],\n",
       "       [0.5792875 , 0.42071244],\n",
       "       [0.50219566, 0.49780434],\n",
       "       [0.9321683 , 0.06783166],\n",
       "       [0.8688688 , 0.13113116],\n",
       "       [0.17595129, 0.8240487 ],\n",
       "       [0.09956371, 0.90043634],\n",
       "       [0.78053623, 0.21946375],\n",
       "       [0.14705504, 0.85294497],\n",
       "       [0.19588295, 0.8041171 ],\n",
       "       [0.6326593 , 0.3673407 ],\n",
       "       [0.8880793 , 0.11192068],\n",
       "       [0.1667104 , 0.83328956],\n",
       "       [0.12706277, 0.8729372 ],\n",
       "       [0.38275468, 0.6172453 ],\n",
       "       [0.12856436, 0.8714357 ],\n",
       "       [0.4624056 , 0.5375945 ],\n",
       "       [0.93058914, 0.0694108 ],\n",
       "       [0.79917336, 0.20082657],\n",
       "       [0.29187837, 0.70812166],\n",
       "       [0.38893816, 0.6110618 ],\n",
       "       [0.8484713 , 0.15152875],\n",
       "       [0.06852736, 0.93147266],\n",
       "       [0.08006189, 0.9199381 ],\n",
       "       [0.9297731 , 0.07022697],\n",
       "       [0.0507427 , 0.9492573 ],\n",
       "       [0.94807386, 0.05192608],\n",
       "       [0.6616672 , 0.3383328 ],\n",
       "       [0.7959634 , 0.20403664],\n",
       "       [0.4997518 , 0.50024825],\n",
       "       [0.9418765 , 0.05812358],\n",
       "       [0.1474868 , 0.8525132 ],\n",
       "       [0.2584577 , 0.74154234],\n",
       "       [0.0735291 , 0.9264709 ],\n",
       "       [0.99237   , 0.00762992],\n",
       "       [0.89811915, 0.10188089],\n",
       "       [0.60784936, 0.3921506 ],\n",
       "       [0.57357126, 0.4264288 ],\n",
       "       [0.24530523, 0.7546948 ],\n",
       "       [0.61272746, 0.38727248]], dtype=float32)"
      ]
     },
     "execution_count": 60,
     "metadata": {},
     "output_type": "execute_result"
    }
   ],
   "source": [
    "y_pred"
   ]
  },
  {
   "cell_type": "markdown",
   "id": "73438fed",
   "metadata": {},
   "source": [
    "### Inference\n",
    "Since we have used dense layer as 2 nodes, we will get two values. Sum of both should be 1.\n",
    "In the training dataset 0 means parasite, 1 means uninfected. So whenever we have higher value at first place indicates that will be a parastic image ortherwise uninfected.\n"
   ]
  },
  {
   "cell_type": "code",
   "execution_count": 61,
   "id": "20454757",
   "metadata": {},
   "outputs": [
    {
     "data": {
      "text/plain": [
       "array([1, 1, 1, 1, 0, 1, 1, 1, 1, 0, 1, 0, 0, 0, 1, 1, 0, 0, 0, 0, 0, 0,\n",
       "       0, 1, 0, 0, 1, 0, 0, 0, 0, 0, 1, 1, 1, 1, 0, 0, 1, 0, 0, 1, 1, 1,\n",
       "       1, 1, 0, 0, 1, 1, 1, 0, 1, 0, 0, 0, 0, 1, 1, 0, 1, 1, 0, 1, 1, 0,\n",
       "       1, 1, 0, 1, 0, 0, 1, 0, 1, 0, 0, 0, 1, 0, 0, 1, 1, 1, 0, 1, 0, 0,\n",
       "       1, 0, 1, 0, 1, 1, 0, 0, 0, 0, 0, 1, 1, 0, 1, 1, 0, 0, 1, 1, 1, 1,\n",
       "       1, 0, 0, 1, 1, 0, 1, 1, 0, 1, 0, 0, 0, 1, 0, 1, 1, 1, 0, 0, 0, 0,\n",
       "       1, 0], dtype=int64)"
      ]
     },
     "execution_count": 61,
     "metadata": {},
     "output_type": "execute_result"
    }
   ],
   "source": [
    "import numpy as np\n",
    "y_pred = np.argmax(y_pred, axis=1)\n",
    "\n",
    "# in the y_pred, whicever will be the maximum value ,return the argument (index) of that.\n",
    "\n",
    "\n",
    "y_pred"
   ]
  },
  {
   "cell_type": "code",
   "execution_count": 68,
   "id": "9fb9df81",
   "metadata": {},
   "outputs": [],
   "source": [
    "from tensorflow.keras.models import load_model\n",
    "from tensorflow.keras.preprocessing import image"
   ]
  },
  {
   "cell_type": "code",
   "execution_count": 78,
   "id": "0891f007",
   "metadata": {},
   "outputs": [],
   "source": [
    "loaded_model = load_model('model_vgg19.h5')"
   ]
  },
  {
   "cell_type": "code",
   "execution_count": 79,
   "id": "a71bfd4d",
   "metadata": {},
   "outputs": [],
   "source": [
    "test_img1 = image.load_img('Dataset/Test/Uninfected/2.png', target_size=(224,224))\n",
    "test_img2 = image.load_img('Dataset/Test/Parasite/C39P4thinF_original_IMG_20150622_110115_cell_118.png', target_size=(224,224))"
   ]
  },
  {
   "cell_type": "code",
   "execution_count": 87,
   "id": "efb59303",
   "metadata": {},
   "outputs": [
    {
     "data": {
      "text/plain": [
       "array([[[0., 0., 0.],\n",
       "        [0., 0., 0.],\n",
       "        [0., 0., 0.],\n",
       "        ...,\n",
       "        [0., 0., 0.],\n",
       "        [0., 0., 0.],\n",
       "        [0., 0., 0.]],\n",
       "\n",
       "       [[0., 0., 0.],\n",
       "        [0., 0., 0.],\n",
       "        [0., 0., 0.],\n",
       "        ...,\n",
       "        [0., 0., 0.],\n",
       "        [0., 0., 0.],\n",
       "        [0., 0., 0.]],\n",
       "\n",
       "       [[0., 0., 0.],\n",
       "        [0., 0., 0.],\n",
       "        [0., 0., 0.],\n",
       "        ...,\n",
       "        [0., 0., 0.],\n",
       "        [0., 0., 0.],\n",
       "        [0., 0., 0.]],\n",
       "\n",
       "       ...,\n",
       "\n",
       "       [[0., 0., 0.],\n",
       "        [0., 0., 0.],\n",
       "        [0., 0., 0.],\n",
       "        ...,\n",
       "        [0., 0., 0.],\n",
       "        [0., 0., 0.],\n",
       "        [0., 0., 0.]],\n",
       "\n",
       "       [[0., 0., 0.],\n",
       "        [0., 0., 0.],\n",
       "        [0., 0., 0.],\n",
       "        ...,\n",
       "        [0., 0., 0.],\n",
       "        [0., 0., 0.],\n",
       "        [0., 0., 0.]],\n",
       "\n",
       "       [[0., 0., 0.],\n",
       "        [0., 0., 0.],\n",
       "        [0., 0., 0.],\n",
       "        ...,\n",
       "        [0., 0., 0.],\n",
       "        [0., 0., 0.],\n",
       "        [0., 0., 0.]]], dtype=float32)"
      ]
     },
     "execution_count": 87,
     "metadata": {},
     "output_type": "execute_result"
    }
   ],
   "source": [
    "x= image.img_to_array(test_img2)\n",
    "x"
   ]
  },
  {
   "cell_type": "code",
   "execution_count": 81,
   "id": "d1a454dd",
   "metadata": {},
   "outputs": [
    {
     "data": {
      "text/plain": [
       "(224, 224, 3)"
      ]
     },
     "execution_count": 81,
     "metadata": {},
     "output_type": "execute_result"
    }
   ],
   "source": [
    "x.shape"
   ]
  },
  {
   "cell_type": "code",
   "execution_count": 88,
   "id": "3be02509",
   "metadata": {},
   "outputs": [],
   "source": [
    "x=x/255   # Since we did this for y_test"
   ]
  },
  {
   "cell_type": "code",
   "execution_count": 89,
   "id": "9d3cf9dc",
   "metadata": {},
   "outputs": [],
   "source": [
    "x = np.expand_dims(x,axis=0)  # In CNN this much no of dimesions is required wrt images. "
   ]
  },
  {
   "cell_type": "code",
   "execution_count": 90,
   "id": "42d468e9",
   "metadata": {},
   "outputs": [
    {
     "data": {
      "text/plain": [
       "(1, 224, 224, 3)"
      ]
     },
     "execution_count": 90,
     "metadata": {},
     "output_type": "execute_result"
    }
   ],
   "source": [
    "img_data= preprocess_input(x)\n",
    "img_data.shape"
   ]
  },
  {
   "cell_type": "code",
   "execution_count": 91,
   "id": "4e7e1b0e",
   "metadata": {},
   "outputs": [
    {
     "data": {
      "text/plain": [
       "array([[1., 0.]], dtype=float32)"
      ]
     },
     "execution_count": 91,
     "metadata": {},
     "output_type": "execute_result"
    }
   ],
   "source": [
    "loaded_model.predict(img_data)"
   ]
  },
  {
   "cell_type": "code",
   "execution_count": 92,
   "id": "13b07861",
   "metadata": {},
   "outputs": [
    {
     "name": "stdout",
     "output_type": "stream",
     "text": [
      "Infected\n"
     ]
    }
   ],
   "source": [
    "a= np.argmax(loaded_model.predict(img_data), axis=1)\n",
    "\n",
    "if (a==1):\n",
    "    print (\"Uninfected\")\n",
    "else: \n",
    "    print (\"Infected\")"
   ]
  },
  {
   "cell_type": "code",
   "execution_count": null,
   "id": "a414093e",
   "metadata": {},
   "outputs": [],
   "source": []
  }
 ],
 "metadata": {
  "kernelspec": {
   "display_name": "Python 3",
   "language": "python",
   "name": "python3"
  },
  "language_info": {
   "codemirror_mode": {
    "name": "ipython",
    "version": 3
   },
   "file_extension": ".py",
   "mimetype": "text/x-python",
   "name": "python",
   "nbconvert_exporter": "python",
   "pygments_lexer": "ipython3",
   "version": "3.8.8"
  }
 },
 "nbformat": 4,
 "nbformat_minor": 5
}
